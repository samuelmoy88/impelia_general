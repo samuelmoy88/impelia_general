{
 "cells": [
  {
   "cell_type": "code",
   "execution_count": 201,
   "metadata": {},
   "outputs": [],
   "source": [
    "# Include libraries, etc\n",
    "# ==============================================================================\n",
    "import pandas as pd\n",
    "import numpy as np\n",
    "\n",
    "# Gráficos\n",
    "# ==============================================================================\n",
    "import matplotlib.pyplot as plt\n",
    "from matplotlib import style\n",
    "import seaborn as sns\n",
    "\n",
    "# Preprocesado y modelado\n",
    "# ==============================================================================\n",
    "from sklearn.linear_model import LogisticRegression\n",
    "from sklearn.model_selection import train_test_split\n",
    "from sklearn.metrics import accuracy_score\n",
    "#from sklearn.metrics import plot_confusion_matrix\n",
    "import statsmodels.api as sm\n",
    "import statsmodels.formula.api as smf\n",
    "\n",
    "# Configuración matplotlib\n",
    "# ==============================================================================\n",
    "plt.rcParams['image.cmap'] = \"bwr\"\n",
    "#plt.rcParams['figure.dpi'] = \"100\"\n",
    "plt.rcParams['savefig.bbox'] = \"tight\"\n",
    "style.use('ggplot') or plt.style.use('ggplot')\n",
    "\n",
    "# Configuración warnings\n",
    "# ==============================================================================\n",
    "import warnings\n",
    "warnings.filterwarnings('ignore')"
   ]
  },
  {
   "cell_type": "code",
   "execution_count": 224,
   "metadata": {},
   "outputs": [],
   "source": [
    "dataframe = pd.read_csv(\"./dataset/train.csv\")\n",
    "# remove unnecessary loan_id column\n",
    "dataframe = dataframe.drop(\"Loan_ID\", axis=1)"
   ]
  },
  {
   "cell_type": "code",
   "execution_count": 225,
   "metadata": {},
   "outputs": [
    {
     "name": "stdout",
     "output_type": "stream",
     "text": [
      "Percentages\n",
      "Loan_Status\n",
      "1    68.729642\n",
      "0    31.270358\n",
      "Name: proportion, dtype: float64\n"
     ]
    }
   ],
   "source": [
    "# map strings to integers\n",
    "dataframe[\"Gender\"] = dataframe[\"Gender\"].map({\"Male\":1,\"Female\":2})\n",
    "dataframe[\"Married\"] = dataframe[\"Married\"].map({\"Yes\":1,\"No\":0})\n",
    "dataframe[\"Education\"] = dataframe[\"Education\"].map({\"Graduate\":1,\"Not Graduate\":0})\n",
    "dataframe[\"Self_Employed\"] = dataframe[\"Self_Employed\"].map({\"Yes\":1,\"No\":0})\n",
    "dataframe[\"Property_Area\"] =  dataframe[\"Property_Area\"].map({\"Semiurban\": 1,\"Urban\":2,\"Rural\":3})\n",
    "dataframe[\"Dependents\"] =  dataframe[\"Dependents\"].map({\"0\":0,\"1\":1,\"2\":2,\"3+\":3})\n",
    "dataframe[\"Loan_Status\"] = dataframe[\"Loan_Status\"].map({\"N\":0,\"Y\":1})\n",
    "dataframe = dataframe.fillna(0)\n",
    "\n",
    "print(\"Percentages\")\n",
    "print(100 * dataframe['Loan_Status'].value_counts(normalize=True))\n"
   ]
  },
  {
   "cell_type": "code",
   "execution_count": 204,
   "metadata": {},
   "outputs": [
    {
     "data": {
      "text/plain": [
       "Gender               float64\n",
       "Married              float64\n",
       "Dependents           float64\n",
       "Education              int64\n",
       "Self_Employed        float64\n",
       "ApplicantIncome        int64\n",
       "CoapplicantIncome    float64\n",
       "LoanAmount           float64\n",
       "Loan_Amount_Term     float64\n",
       "Credit_History       float64\n",
       "Property_Area          int64\n",
       "Loan_Status            int64\n",
       "dtype: object"
      ]
     },
     "execution_count": 204,
     "metadata": {},
     "output_type": "execute_result"
    }
   ],
   "source": [
    "dataframe.dtypes"
   ]
  },
  {
   "cell_type": "code",
   "execution_count": 144,
   "metadata": {},
   "outputs": [
    {
     "data": {
      "text/html": [
       "<div>\n",
       "<style scoped>\n",
       "    .dataframe tbody tr th:only-of-type {\n",
       "        vertical-align: middle;\n",
       "    }\n",
       "\n",
       "    .dataframe tbody tr th {\n",
       "        vertical-align: top;\n",
       "    }\n",
       "\n",
       "    .dataframe thead th {\n",
       "        text-align: right;\n",
       "    }\n",
       "</style>\n",
       "<table border=\"1\" class=\"dataframe\">\n",
       "  <thead>\n",
       "    <tr style=\"text-align: right;\">\n",
       "      <th></th>\n",
       "      <th>var_1</th>\n",
       "      <th>var_2</th>\n",
       "      <th>r</th>\n",
       "    </tr>\n",
       "  </thead>\n",
       "  <tbody>\n",
       "    <tr>\n",
       "      <th>2</th>\n",
       "      <td>ApplicantIncome</td>\n",
       "      <td>LoanAmount</td>\n",
       "      <td>0.538290</td>\n",
       "    </tr>\n",
       "    <tr>\n",
       "      <th>12</th>\n",
       "      <td>LoanAmount</td>\n",
       "      <td>ApplicantIncome</td>\n",
       "      <td>0.538290</td>\n",
       "    </tr>\n",
       "    <tr>\n",
       "      <th>34</th>\n",
       "      <td>Loan_Status</td>\n",
       "      <td>Credit_History</td>\n",
       "      <td>0.432616</td>\n",
       "    </tr>\n",
       "    <tr>\n",
       "      <th>29</th>\n",
       "      <td>Credit_History</td>\n",
       "      <td>Loan_Status</td>\n",
       "      <td>0.432616</td>\n",
       "    </tr>\n",
       "    <tr>\n",
       "      <th>13</th>\n",
       "      <td>LoanAmount</td>\n",
       "      <td>CoapplicantIncome</td>\n",
       "      <td>0.190377</td>\n",
       "    </tr>\n",
       "    <tr>\n",
       "      <th>8</th>\n",
       "      <td>CoapplicantIncome</td>\n",
       "      <td>LoanAmount</td>\n",
       "      <td>0.190377</td>\n",
       "    </tr>\n",
       "    <tr>\n",
       "      <th>15</th>\n",
       "      <td>LoanAmount</td>\n",
       "      <td>Loan_Amount_Term</td>\n",
       "      <td>0.058519</td>\n",
       "    </tr>\n",
       "    <tr>\n",
       "      <th>20</th>\n",
       "      <td>Loan_Amount_Term</td>\n",
       "      <td>LoanAmount</td>\n",
       "      <td>0.058519</td>\n",
       "    </tr>\n",
       "    <tr>\n",
       "      <th>22</th>\n",
       "      <td>Loan_Amount_Term</td>\n",
       "      <td>Credit_History</td>\n",
       "      <td>0.050145</td>\n",
       "    </tr>\n",
       "    <tr>\n",
       "      <th>27</th>\n",
       "      <td>Credit_History</td>\n",
       "      <td>Loan_Amount_Term</td>\n",
       "      <td>0.050145</td>\n",
       "    </tr>\n",
       "    <tr>\n",
       "      <th>33</th>\n",
       "      <td>Loan_Status</td>\n",
       "      <td>Loan_Amount_Term</td>\n",
       "      <td>0.007306</td>\n",
       "    </tr>\n",
       "    <tr>\n",
       "      <th>23</th>\n",
       "      <td>Loan_Amount_Term</td>\n",
       "      <td>Loan_Status</td>\n",
       "      <td>0.007306</td>\n",
       "    </tr>\n",
       "    <tr>\n",
       "      <th>4</th>\n",
       "      <td>ApplicantIncome</td>\n",
       "      <td>Credit_History</td>\n",
       "      <td>0.006986</td>\n",
       "    </tr>\n",
       "    <tr>\n",
       "      <th>24</th>\n",
       "      <td>Credit_History</td>\n",
       "      <td>ApplicantIncome</td>\n",
       "      <td>0.006986</td>\n",
       "    </tr>\n",
       "    <tr>\n",
       "      <th>30</th>\n",
       "      <td>Loan_Status</td>\n",
       "      <td>ApplicantIncome</td>\n",
       "      <td>-0.004710</td>\n",
       "    </tr>\n",
       "    <tr>\n",
       "      <th>5</th>\n",
       "      <td>ApplicantIncome</td>\n",
       "      <td>Loan_Status</td>\n",
       "      <td>-0.004710</td>\n",
       "    </tr>\n",
       "    <tr>\n",
       "      <th>32</th>\n",
       "      <td>Loan_Status</td>\n",
       "      <td>LoanAmount</td>\n",
       "      <td>-0.010631</td>\n",
       "    </tr>\n",
       "    <tr>\n",
       "      <th>17</th>\n",
       "      <td>LoanAmount</td>\n",
       "      <td>Loan_Status</td>\n",
       "      <td>-0.010631</td>\n",
       "    </tr>\n",
       "    <tr>\n",
       "      <th>18</th>\n",
       "      <td>Loan_Amount_Term</td>\n",
       "      <td>ApplicantIncome</td>\n",
       "      <td>-0.015645</td>\n",
       "    </tr>\n",
       "    <tr>\n",
       "      <th>3</th>\n",
       "      <td>ApplicantIncome</td>\n",
       "      <td>Loan_Amount_Term</td>\n",
       "      <td>-0.015645</td>\n",
       "    </tr>\n",
       "  </tbody>\n",
       "</table>\n",
       "</div>"
      ],
      "text/plain": [
       "                var_1              var_2         r\n",
       "2     ApplicantIncome         LoanAmount  0.538290\n",
       "12         LoanAmount    ApplicantIncome  0.538290\n",
       "34        Loan_Status     Credit_History  0.432616\n",
       "29     Credit_History        Loan_Status  0.432616\n",
       "13         LoanAmount  CoapplicantIncome  0.190377\n",
       "8   CoapplicantIncome         LoanAmount  0.190377\n",
       "15         LoanAmount   Loan_Amount_Term  0.058519\n",
       "20   Loan_Amount_Term         LoanAmount  0.058519\n",
       "22   Loan_Amount_Term     Credit_History  0.050145\n",
       "27     Credit_History   Loan_Amount_Term  0.050145\n",
       "33        Loan_Status   Loan_Amount_Term  0.007306\n",
       "23   Loan_Amount_Term        Loan_Status  0.007306\n",
       "4     ApplicantIncome     Credit_History  0.006986\n",
       "24     Credit_History    ApplicantIncome  0.006986\n",
       "30        Loan_Status    ApplicantIncome -0.004710\n",
       "5     ApplicantIncome        Loan_Status -0.004710\n",
       "32        Loan_Status         LoanAmount -0.010631\n",
       "17         LoanAmount        Loan_Status -0.010631\n",
       "18   Loan_Amount_Term    ApplicantIncome -0.015645\n",
       "3     ApplicantIncome   Loan_Amount_Term -0.015645"
      ]
     },
     "execution_count": 144,
     "metadata": {},
     "output_type": "execute_result"
    }
   ],
   "source": [
    "# Correlation\n",
    "corr_matrix = dataframe.drop([\"Gender\", \"Married\", \"Property_Area\", \"Dependents\", \"Education\", \"Self_Employed\"], axis=1)\n",
    "corr_matrix = corr_matrix.select_dtypes(include=[\"float64\", \"int\"])\n",
    "corr_matrix = corr_matrix.corr(method=\"pearson\")\n",
    "corr_matrix = corr_matrix.stack()\n",
    "corr_matrix = corr_matrix.reset_index()\n",
    "corr_matrix.columns = [\"var_1\", \"var_2\", \"r\"]\n",
    "corr_matrix = corr_matrix.loc[corr_matrix[\"var_1\"] != corr_matrix[\"var_2\"],:]\n",
    "corr_matrix = corr_matrix.sort_values(\"r\", ascending=False)\n",
    "corr_matrix.head(20)\n",
    "\n"
   ]
  },
  {
   "cell_type": "code",
   "execution_count": 227,
   "metadata": {},
   "outputs": [],
   "source": [
    "# Split training and testing data\n",
    "X = dataframe.drop(\"Loan_Status\", axis=1)\n",
    "Y = dataframe[\"Loan_Status\"]\n",
    "\n",
    "X_train, X_test, Y_train, Y_test = train_test_split(\n",
    "    X,\n",
    "    Y.values.reshape(-1,1),\n",
    "    train_size=0.8,\n",
    "    random_state=1234,\n",
    "    shuffle=True\n",
    ")"
   ]
  },
  {
   "cell_type": "code",
   "execution_count": 228,
   "metadata": {},
   "outputs": [
    {
     "name": "stdout",
     "output_type": "stream",
     "text": [
      "Optimization terminated successfully.\n",
      "         Current function value: 0.527507\n",
      "         Iterations 6\n",
      "                           Logit Regression Results                           \n",
      "==============================================================================\n",
      "Dep. Variable:                      y   No. Observations:                  491\n",
      "Model:                          Logit   Df Residuals:                      479\n",
      "Method:                           MLE   Df Model:                           11\n",
      "Date:                Sun, 07 Jan 2024   Pseudo R-squ.:                  0.1497\n",
      "Time:                        15:42:31   Log-Likelihood:                -259.01\n",
      "converged:                       True   LL-Null:                       -304.61\n",
      "Covariance Type:            nonrobust   LLR p-value:                 9.686e-15\n",
      "=====================================================================================\n",
      "                        coef    std err          z      P>|z|      [0.025      0.975]\n",
      "-------------------------------------------------------------------------------------\n",
      "const                 0.4620      0.777      0.595      0.552      -1.060       1.984\n",
      "Gender               -0.0436      0.284     -0.153      0.878      -0.600       0.513\n",
      "Married               0.5190      0.255      2.037      0.042       0.020       1.018\n",
      "Dependents           -0.0820      0.117     -0.700      0.484      -0.312       0.148\n",
      "Education             0.3221      0.262      1.230      0.219      -0.191       0.835\n",
      "Self_Employed         0.0823      0.319      0.258      0.797      -0.543       0.708\n",
      "ApplicantIncome   -1.536e-05   2.26e-05     -0.678      0.498   -5.97e-05     2.9e-05\n",
      "CoapplicantIncome -5.909e-05   3.94e-05     -1.500      0.134      -0.000    1.81e-05\n",
      "LoanAmount           -0.0002      0.002     -0.099      0.921      -0.003       0.003\n",
      "Loan_Amount_Term     -0.0015      0.001     -1.018      0.309      -0.004       0.001\n",
      "Credit_History        1.9408      0.245      7.923      0.000       1.461       2.421\n",
      "Property_Area        -0.4413      0.134     -3.285      0.001      -0.705      -0.178\n",
      "=====================================================================================\n"
     ]
    }
   ],
   "source": [
    "# Generate model\n",
    "X_train = sm.add_constant(X_train, prepend=True)\n",
    "model = sm.Logit(endog=Y_train, exog=X_train)\n",
    "model = model.fit()\n",
    "print(model.summary())"
   ]
  },
  {
   "cell_type": "code",
   "execution_count": 229,
   "metadata": {},
   "outputs": [
    {
     "name": "stdout",
     "output_type": "stream",
     "text": [
      "El accuracy de test es: 82.11382113821138%\n"
     ]
    }
   ],
   "source": [
    "# Accuracy de test del modelo\n",
    "# ==============================================================================\n",
    "X_test = sm.add_constant(X_test, prepend=True)\n",
    "predictions = model.predict(exog = X_test)\n",
    "classification = np.where(predictions<0.50, 0, 1)\n",
    "accuracy = accuracy_score(\n",
    "            y_true    = Y_test,\n",
    "            y_pred    = classification,\n",
    "            normalize = True\n",
    "           )\n",
    "print(f\"El accuracy de test es: {100*accuracy}%\")"
   ]
  },
  {
   "cell_type": "code",
   "execution_count": 230,
   "metadata": {},
   "outputs": [
    {
     "data": {
      "text/html": [
       "<div>\n",
       "<style scoped>\n",
       "    .dataframe tbody tr th:only-of-type {\n",
       "        vertical-align: middle;\n",
       "    }\n",
       "\n",
       "    .dataframe tbody tr th {\n",
       "        vertical-align: top;\n",
       "    }\n",
       "\n",
       "    .dataframe thead th {\n",
       "        text-align: right;\n",
       "    }\n",
       "</style>\n",
       "<table border=\"1\" class=\"dataframe\">\n",
       "  <thead>\n",
       "    <tr style=\"text-align: right;\">\n",
       "      <th>Predicción</th>\n",
       "      <th>0</th>\n",
       "      <th>1</th>\n",
       "    </tr>\n",
       "    <tr>\n",
       "      <th>Real</th>\n",
       "      <th></th>\n",
       "      <th></th>\n",
       "    </tr>\n",
       "  </thead>\n",
       "  <tbody>\n",
       "    <tr>\n",
       "      <th>0</th>\n",
       "      <td>22</td>\n",
       "      <td>17</td>\n",
       "    </tr>\n",
       "    <tr>\n",
       "      <th>1</th>\n",
       "      <td>5</td>\n",
       "      <td>79</td>\n",
       "    </tr>\n",
       "  </tbody>\n",
       "</table>\n",
       "</div>"
      ],
      "text/plain": [
       "Predicción   0   1\n",
       "Real              \n",
       "0           22  17\n",
       "1            5  79"
      ]
     },
     "execution_count": 230,
     "metadata": {},
     "output_type": "execute_result"
    }
   ],
   "source": [
    "# Matriz de confusión de las predicciones de test\n",
    "# ==============================================================================\n",
    "confusion_matrix = pd.crosstab(\n",
    "    Y_test.ravel(),\n",
    "    classification,\n",
    "    rownames=['Real'],\n",
    "    colnames=['Predicción']\n",
    ")\n",
    "confusion_matrix"
   ]
  },
  {
   "cell_type": "code",
   "execution_count": 231,
   "metadata": {},
   "outputs": [
    {
     "name": "stdout",
     "output_type": "stream",
     "text": [
      "Recall es 94.04761904761905\n",
      "Specificity es 56.41025641025641\n",
      "Precision es 82.29166666666666\n",
      "Accuracy es 82.11382113821138\n"
     ]
    }
   ],
   "source": [
    "tn = 22 #a\n",
    "tp = 79 #d\n",
    "fn = 5 #c\n",
    "fp = 17 #b\n",
    "recall = tp / (tp+fn) # d/(d+c)\n",
    "specificity = tn / (tn+fp)# a / (a+b)\n",
    "precision = tp / (fp+tp) # d / (b+d)\n",
    "accuracy =  (tn+tp) / (tn+tp+fn+fp) # (a+d) / (a+b+c+d)\n",
    "print(f\"Recall es {100*recall}\")\n",
    "print(f\"Specificity es {100*specificity}\")\n",
    "print(f\"Precision es {100*precision}\")\n",
    "print(f\"Accuracy es {100*accuracy}\")"
   ]
  },
  {
   "cell_type": "code",
   "execution_count": 232,
   "metadata": {},
   "outputs": [
    {
     "name": "stdout",
     "output_type": "stream",
     "text": [
      "Optimization terminated successfully.\n",
      "         Current function value: 0.534443\n",
      "         Iterations 6\n",
      "                           Logit Regression Results                           \n",
      "==============================================================================\n",
      "Dep. Variable:                      y   No. Observations:                  491\n",
      "Model:                          Logit   Df Residuals:                      486\n",
      "Method:                           MLE   Df Model:                            4\n",
      "Date:                Sun, 07 Jan 2024   Pseudo R-squ.:                  0.1385\n",
      "Time:                        15:44:52   Log-Likelihood:                -262.41\n",
      "converged:                       True   LL-Null:                       -304.61\n",
      "Covariance Type:            nonrobust   LLR p-value:                 2.041e-17\n",
      "=====================================================================================\n",
      "                        coef    std err          z      P>|z|      [0.025      0.975]\n",
      "-------------------------------------------------------------------------------------\n",
      "const                 0.9320      0.600      1.552      0.121      -0.245       2.109\n",
      "CoapplicantIncome  -4.61e-05   3.45e-05     -1.334      0.182      -0.000    2.16e-05\n",
      "Loan_Amount_Term     -0.0017      0.001     -1.155      0.248      -0.005       0.001\n",
      "Credit_History        1.9090      0.240      7.940      0.000       1.438       2.380\n",
      "Property_Area        -0.4555      0.132     -3.438      0.001      -0.715      -0.196\n",
      "=====================================================================================\n"
     ]
    }
   ],
   "source": [
    "# Generate the model again by removing irrelevant variables\n",
    "X_train = X_train.drop([\"Gender\", \"Married\", \"Dependents\", \"Education\", \"Self_Employed\",\"LoanAmount\",\"ApplicantIncome\"], axis=1)\n",
    "X_test = X_test.drop([\"Gender\", \"Married\", \"Dependents\", \"Education\", \"Self_Employed\",\"LoanAmount\",\"ApplicantIncome\"], axis=1)\n",
    "model = sm.Logit(endog=Y_train, exog=X_train)\n",
    "model = model.fit()\n",
    "print(model.summary())"
   ]
  },
  {
   "cell_type": "code",
   "execution_count": 242,
   "metadata": {},
   "outputs": [
    {
     "name": "stdout",
     "output_type": "stream",
     "text": [
      "El accuracy de test es: 82.11382113821138%\n"
     ]
    }
   ],
   "source": [
    "# Accuracy de test del modelo\n",
    "# ==============================================================================\n",
    "predictions = model.predict(exog = X_test)\n",
    "classification = np.where(predictions<0.50, 0, 1)\n",
    "accuracy = accuracy_score(\n",
    "            y_true    = Y_test,\n",
    "            y_pred    = classification,\n",
    "            normalize = True\n",
    "           )\n",
    "print(f\"El accuracy de test es: {100*accuracy}%\")"
   ]
  },
  {
   "cell_type": "code",
   "execution_count": 243,
   "metadata": {},
   "outputs": [
    {
     "data": {
      "text/html": [
       "<div>\n",
       "<style scoped>\n",
       "    .dataframe tbody tr th:only-of-type {\n",
       "        vertical-align: middle;\n",
       "    }\n",
       "\n",
       "    .dataframe tbody tr th {\n",
       "        vertical-align: top;\n",
       "    }\n",
       "\n",
       "    .dataframe thead th {\n",
       "        text-align: right;\n",
       "    }\n",
       "</style>\n",
       "<table border=\"1\" class=\"dataframe\">\n",
       "  <thead>\n",
       "    <tr style=\"text-align: right;\">\n",
       "      <th>Predicción</th>\n",
       "      <th>0</th>\n",
       "      <th>1</th>\n",
       "    </tr>\n",
       "    <tr>\n",
       "      <th>Real</th>\n",
       "      <th></th>\n",
       "      <th></th>\n",
       "    </tr>\n",
       "  </thead>\n",
       "  <tbody>\n",
       "    <tr>\n",
       "      <th>0</th>\n",
       "      <td>22</td>\n",
       "      <td>17</td>\n",
       "    </tr>\n",
       "    <tr>\n",
       "      <th>1</th>\n",
       "      <td>5</td>\n",
       "      <td>79</td>\n",
       "    </tr>\n",
       "  </tbody>\n",
       "</table>\n",
       "</div>"
      ],
      "text/plain": [
       "Predicción   0   1\n",
       "Real              \n",
       "0           22  17\n",
       "1            5  79"
      ]
     },
     "execution_count": 243,
     "metadata": {},
     "output_type": "execute_result"
    }
   ],
   "source": [
    "# Matriz de confusión de las predicciones de test\n",
    "# ==============================================================================\n",
    "confusion_matrix = pd.crosstab(\n",
    "    Y_test.ravel(),\n",
    "    classification,\n",
    "    rownames=['Real'],\n",
    "    colnames=['Predicción']\n",
    ")\n",
    "confusion_matrix"
   ]
  },
  {
   "cell_type": "code",
   "execution_count": 244,
   "metadata": {},
   "outputs": [
    {
     "name": "stdout",
     "output_type": "stream",
     "text": [
      "Recall es 94.04761904761905\n",
      "Specificity es 56.41025641025641\n",
      "Precision es 82.29166666666666\n"
     ]
    }
   ],
   "source": [
    "tn = 22 #a\n",
    "tp = 79 #d\n",
    "fn = 5 #c\n",
    "fp = 17 #b\n",
    "recall = tp / (tp+fn) # d/(d+c)\n",
    "specificity = tn / (tn+fp)# a / (a+b)\n",
    "precision = tp / (fp+tp) #d / (b+d)\n",
    "accuracy =  (tn+tp) / (tn+tp+fn+fp) # (a+d) / (a+b+c+d)\n",
    "print(f\"Recall es {100*recall}\")\n",
    "print(f\"Specificity es {100*specificity}\")\n",
    "print(f\"Precision es {100*precision}\")"
   ]
  },
  {
   "cell_type": "markdown",
   "metadata": {},
   "source": [
    "# Conclusiones\n",
    "\n",
    "- El modelo parece ser bastante sensible, en otras palabras tiene una buena capacidad para identificar casos positivos reales\n",
    "- Sin embargo, la especificidad es relativamente baja, esto indica que hay margen para mejorar la capacidad del modelo para identificar correctamente los casos negativos reales, esto podría mejorar al subir bastante más el umbral. Al hacer con pruebas de 70% esta métrica sube hasta un 66% pero hace que la sensibilidad baje al 76%, lo cual puede considerarse como un buen trade-off considerando la importancia de no acertar cuando **no** se debe de aprobar un prestamo\n",
    "- La precisión es aceptable, pero puede ser útil considerar el equilibrio entre precisión, sensibilidad y especificidad según los requisitos específicos del problema."
   ]
  }
 ],
 "metadata": {
  "kernelspec": {
   "display_name": "Python 3",
   "language": "python",
   "name": "python3"
  },
  "language_info": {
   "codemirror_mode": {
    "name": "ipython",
    "version": 3
   },
   "file_extension": ".py",
   "mimetype": "text/x-python",
   "name": "python",
   "nbconvert_exporter": "python",
   "pygments_lexer": "ipython3",
   "version": "3.12.0"
  }
 },
 "nbformat": 4,
 "nbformat_minor": 2
}
